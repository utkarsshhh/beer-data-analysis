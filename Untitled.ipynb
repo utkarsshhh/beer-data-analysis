{
 "cells": [
  {
   "cell_type": "code",
   "execution_count": 1,
   "id": "f0f7acbb",
   "metadata": {},
   "outputs": [],
   "source": [
    "import pandas as pd\n",
    "import numpy as np\n",
    "import matplotlib.pyplot as plt\n",
    "import seaborn as sns\n",
    "import difflib"
   ]
  },
  {
   "cell_type": "code",
   "execution_count": 2,
   "id": "223c2076",
   "metadata": {},
   "outputs": [],
   "source": [
    "df = pd.read_csv('datasets/BeerDataScienceProject.tar.bz2', compression=\"bz2\")"
   ]
  },
  {
   "cell_type": "code",
   "execution_count": 3,
   "id": "d4f04652",
   "metadata": {},
   "outputs": [
    {
     "data": {
      "text/html": [
       "<div>\n",
       "<style scoped>\n",
       "    .dataframe tbody tr th:only-of-type {\n",
       "        vertical-align: middle;\n",
       "    }\n",
       "\n",
       "    .dataframe tbody tr th {\n",
       "        vertical-align: top;\n",
       "    }\n",
       "\n",
       "    .dataframe thead th {\n",
       "        text-align: right;\n",
       "    }\n",
       "</style>\n",
       "<table border=\"1\" class=\"dataframe\">\n",
       "  <thead>\n",
       "    <tr style=\"text-align: right;\">\n",
       "      <th></th>\n",
       "      <th>beer_ABV</th>\n",
       "      <th>beer_beerId</th>\n",
       "      <th>beer_brewerId</th>\n",
       "      <th>beer_name</th>\n",
       "      <th>beer_style</th>\n",
       "      <th>review_appearance</th>\n",
       "      <th>review_palette</th>\n",
       "      <th>review_overall</th>\n",
       "      <th>review_taste</th>\n",
       "      <th>review_profileName</th>\n",
       "      <th>review_aroma</th>\n",
       "      <th>review_text</th>\n",
       "      <th>review_time</th>\n",
       "    </tr>\n",
       "  </thead>\n",
       "  <tbody>\n",
       "    <tr>\n",
       "      <th>0</th>\n",
       "      <td>5.0</td>\n",
       "      <td>47986</td>\n",
       "      <td>10325</td>\n",
       "      <td>Sausa Weizen</td>\n",
       "      <td>Hefeweizen</td>\n",
       "      <td>2.5</td>\n",
       "      <td>2.0</td>\n",
       "      <td>1.5</td>\n",
       "      <td>1.5</td>\n",
       "      <td>stcules</td>\n",
       "      <td>1.5</td>\n",
       "      <td>A lot of foam. But a lot. In the smell some ba...</td>\n",
       "      <td>1234817823</td>\n",
       "    </tr>\n",
       "    <tr>\n",
       "      <th>1</th>\n",
       "      <td>6.2</td>\n",
       "      <td>48213</td>\n",
       "      <td>10325</td>\n",
       "      <td>Red Moon</td>\n",
       "      <td>English Strong Ale</td>\n",
       "      <td>3.0</td>\n",
       "      <td>2.5</td>\n",
       "      <td>3.0</td>\n",
       "      <td>3.0</td>\n",
       "      <td>stcules</td>\n",
       "      <td>3.0</td>\n",
       "      <td>Dark red color, light beige foam, average. In ...</td>\n",
       "      <td>1235915097</td>\n",
       "    </tr>\n",
       "    <tr>\n",
       "      <th>2</th>\n",
       "      <td>6.5</td>\n",
       "      <td>48215</td>\n",
       "      <td>10325</td>\n",
       "      <td>Black Horse Black Beer</td>\n",
       "      <td>Foreign / Export Stout</td>\n",
       "      <td>3.0</td>\n",
       "      <td>2.5</td>\n",
       "      <td>3.0</td>\n",
       "      <td>3.0</td>\n",
       "      <td>stcules</td>\n",
       "      <td>3.0</td>\n",
       "      <td>Almost totally black. Beige foam, quite compac...</td>\n",
       "      <td>1235916604</td>\n",
       "    </tr>\n",
       "    <tr>\n",
       "      <th>3</th>\n",
       "      <td>5.0</td>\n",
       "      <td>47969</td>\n",
       "      <td>10325</td>\n",
       "      <td>Sausa Pils</td>\n",
       "      <td>German Pilsener</td>\n",
       "      <td>3.5</td>\n",
       "      <td>3.0</td>\n",
       "      <td>3.0</td>\n",
       "      <td>2.5</td>\n",
       "      <td>stcules</td>\n",
       "      <td>3.0</td>\n",
       "      <td>Golden yellow color. White, compact foam, quit...</td>\n",
       "      <td>1234725145</td>\n",
       "    </tr>\n",
       "    <tr>\n",
       "      <th>4</th>\n",
       "      <td>7.7</td>\n",
       "      <td>64883</td>\n",
       "      <td>1075</td>\n",
       "      <td>Cauldron DIPA</td>\n",
       "      <td>American Double / Imperial IPA</td>\n",
       "      <td>4.0</td>\n",
       "      <td>4.5</td>\n",
       "      <td>4.0</td>\n",
       "      <td>4.0</td>\n",
       "      <td>johnmichaelsen</td>\n",
       "      <td>4.5</td>\n",
       "      <td>According to the website, the style for the Ca...</td>\n",
       "      <td>1293735206</td>\n",
       "    </tr>\n",
       "  </tbody>\n",
       "</table>\n",
       "</div>"
      ],
      "text/plain": [
       "   beer_ABV  beer_beerId  beer_brewerId               beer_name  \\\n",
       "0       5.0        47986          10325            Sausa Weizen   \n",
       "1       6.2        48213          10325                Red Moon   \n",
       "2       6.5        48215          10325  Black Horse Black Beer   \n",
       "3       5.0        47969          10325              Sausa Pils   \n",
       "4       7.7        64883           1075           Cauldron DIPA   \n",
       "\n",
       "                       beer_style  review_appearance  review_palette  \\\n",
       "0                      Hefeweizen                2.5             2.0   \n",
       "1              English Strong Ale                3.0             2.5   \n",
       "2          Foreign / Export Stout                3.0             2.5   \n",
       "3                 German Pilsener                3.5             3.0   \n",
       "4  American Double / Imperial IPA                4.0             4.5   \n",
       "\n",
       "   review_overall  review_taste review_profileName  review_aroma  \\\n",
       "0             1.5           1.5            stcules           1.5   \n",
       "1             3.0           3.0            stcules           3.0   \n",
       "2             3.0           3.0            stcules           3.0   \n",
       "3             3.0           2.5            stcules           3.0   \n",
       "4             4.0           4.0     johnmichaelsen           4.5   \n",
       "\n",
       "                                         review_text  review_time  \n",
       "0  A lot of foam. But a lot. In the smell some ba...   1234817823  \n",
       "1  Dark red color, light beige foam, average. In ...   1235915097  \n",
       "2  Almost totally black. Beige foam, quite compac...   1235916604  \n",
       "3  Golden yellow color. White, compact foam, quit...   1234725145  \n",
       "4  According to the website, the style for the Ca...   1293735206  "
      ]
     },
     "execution_count": 3,
     "metadata": {},
     "output_type": "execute_result"
    }
   ],
   "source": [
    "df.head()"
   ]
  },
  {
   "cell_type": "code",
   "execution_count": 4,
   "id": "9c289c34",
   "metadata": {},
   "outputs": [
    {
     "data": {
      "text/html": [
       "<div>\n",
       "<style scoped>\n",
       "    .dataframe tbody tr th:only-of-type {\n",
       "        vertical-align: middle;\n",
       "    }\n",
       "\n",
       "    .dataframe tbody tr th {\n",
       "        vertical-align: top;\n",
       "    }\n",
       "\n",
       "    .dataframe thead th {\n",
       "        text-align: right;\n",
       "    }\n",
       "</style>\n",
       "<table border=\"1\" class=\"dataframe\">\n",
       "  <thead>\n",
       "    <tr style=\"text-align: right;\">\n",
       "      <th></th>\n",
       "      <th>beer_ABV</th>\n",
       "      <th>beer_beerId</th>\n",
       "      <th>beer_brewerId</th>\n",
       "      <th>review_appearance</th>\n",
       "      <th>review_palette</th>\n",
       "      <th>review_overall</th>\n",
       "      <th>review_taste</th>\n",
       "      <th>review_aroma</th>\n",
       "      <th>review_time</th>\n",
       "    </tr>\n",
       "  </thead>\n",
       "  <tbody>\n",
       "    <tr>\n",
       "      <th>count</th>\n",
       "      <td>508590.000000</td>\n",
       "      <td>528870.000000</td>\n",
       "      <td>528870.000000</td>\n",
       "      <td>528870.000000</td>\n",
       "      <td>528870.000000</td>\n",
       "      <td>528870.000000</td>\n",
       "      <td>528870.000000</td>\n",
       "      <td>528870.000000</td>\n",
       "      <td>5.288700e+05</td>\n",
       "    </tr>\n",
       "    <tr>\n",
       "      <th>mean</th>\n",
       "      <td>7.017442</td>\n",
       "      <td>22098.466016</td>\n",
       "      <td>2598.423429</td>\n",
       "      <td>3.864522</td>\n",
       "      <td>3.758926</td>\n",
       "      <td>3.833197</td>\n",
       "      <td>3.765993</td>\n",
       "      <td>3.817350</td>\n",
       "      <td>1.224885e+09</td>\n",
       "    </tr>\n",
       "    <tr>\n",
       "      <th>std</th>\n",
       "      <td>2.204460</td>\n",
       "      <td>22158.284352</td>\n",
       "      <td>5281.805350</td>\n",
       "      <td>0.604010</td>\n",
       "      <td>0.685335</td>\n",
       "      <td>0.709962</td>\n",
       "      <td>0.669018</td>\n",
       "      <td>0.718903</td>\n",
       "      <td>7.605600e+07</td>\n",
       "    </tr>\n",
       "    <tr>\n",
       "      <th>min</th>\n",
       "      <td>0.010000</td>\n",
       "      <td>3.000000</td>\n",
       "      <td>1.000000</td>\n",
       "      <td>0.000000</td>\n",
       "      <td>1.000000</td>\n",
       "      <td>0.000000</td>\n",
       "      <td>1.000000</td>\n",
       "      <td>1.000000</td>\n",
       "      <td>8.843904e+08</td>\n",
       "    </tr>\n",
       "    <tr>\n",
       "      <th>25%</th>\n",
       "      <td>5.300000</td>\n",
       "      <td>1745.000000</td>\n",
       "      <td>132.000000</td>\n",
       "      <td>3.500000</td>\n",
       "      <td>3.500000</td>\n",
       "      <td>3.500000</td>\n",
       "      <td>3.500000</td>\n",
       "      <td>3.500000</td>\n",
       "      <td>1.174613e+09</td>\n",
       "    </tr>\n",
       "    <tr>\n",
       "      <th>50%</th>\n",
       "      <td>6.500000</td>\n",
       "      <td>14368.000000</td>\n",
       "      <td>394.000000</td>\n",
       "      <td>4.000000</td>\n",
       "      <td>4.000000</td>\n",
       "      <td>4.000000</td>\n",
       "      <td>4.000000</td>\n",
       "      <td>4.000000</td>\n",
       "      <td>1.240366e+09</td>\n",
       "    </tr>\n",
       "    <tr>\n",
       "      <th>75%</th>\n",
       "      <td>8.500000</td>\n",
       "      <td>40528.000000</td>\n",
       "      <td>1475.000000</td>\n",
       "      <td>4.000000</td>\n",
       "      <td>4.000000</td>\n",
       "      <td>4.500000</td>\n",
       "      <td>4.000000</td>\n",
       "      <td>4.500000</td>\n",
       "      <td>1.288560e+09</td>\n",
       "    </tr>\n",
       "    <tr>\n",
       "      <th>max</th>\n",
       "      <td>57.700000</td>\n",
       "      <td>77310.000000</td>\n",
       "      <td>27980.000000</td>\n",
       "      <td>5.000000</td>\n",
       "      <td>5.000000</td>\n",
       "      <td>5.000000</td>\n",
       "      <td>5.000000</td>\n",
       "      <td>5.000000</td>\n",
       "      <td>1.326277e+09</td>\n",
       "    </tr>\n",
       "  </tbody>\n",
       "</table>\n",
       "</div>"
      ],
      "text/plain": [
       "            beer_ABV    beer_beerId  beer_brewerId  review_appearance  \\\n",
       "count  508590.000000  528870.000000  528870.000000      528870.000000   \n",
       "mean        7.017442   22098.466016    2598.423429           3.864522   \n",
       "std         2.204460   22158.284352    5281.805350           0.604010   \n",
       "min         0.010000       3.000000       1.000000           0.000000   \n",
       "25%         5.300000    1745.000000     132.000000           3.500000   \n",
       "50%         6.500000   14368.000000     394.000000           4.000000   \n",
       "75%         8.500000   40528.000000    1475.000000           4.000000   \n",
       "max        57.700000   77310.000000   27980.000000           5.000000   \n",
       "\n",
       "       review_palette  review_overall   review_taste   review_aroma  \\\n",
       "count   528870.000000   528870.000000  528870.000000  528870.000000   \n",
       "mean         3.758926        3.833197       3.765993       3.817350   \n",
       "std          0.685335        0.709962       0.669018       0.718903   \n",
       "min          1.000000        0.000000       1.000000       1.000000   \n",
       "25%          3.500000        3.500000       3.500000       3.500000   \n",
       "50%          4.000000        4.000000       4.000000       4.000000   \n",
       "75%          4.000000        4.500000       4.000000       4.500000   \n",
       "max          5.000000        5.000000       5.000000       5.000000   \n",
       "\n",
       "        review_time  \n",
       "count  5.288700e+05  \n",
       "mean   1.224885e+09  \n",
       "std    7.605600e+07  \n",
       "min    8.843904e+08  \n",
       "25%    1.174613e+09  \n",
       "50%    1.240366e+09  \n",
       "75%    1.288560e+09  \n",
       "max    1.326277e+09  "
      ]
     },
     "execution_count": 4,
     "metadata": {},
     "output_type": "execute_result"
    }
   ],
   "source": [
    "df.describe()"
   ]
  },
  {
   "cell_type": "code",
   "execution_count": 5,
   "id": "dce981c5",
   "metadata": {},
   "outputs": [
    {
     "data": {
      "text/plain": [
       "20280"
      ]
     },
     "execution_count": 5,
     "metadata": {},
     "output_type": "execute_result"
    }
   ],
   "source": [
    "df['beer_ABV'].isnull().sum()"
   ]
  },
  {
   "cell_type": "code",
   "execution_count": 6,
   "id": "542ab840",
   "metadata": {},
   "outputs": [
    {
     "data": {
      "text/plain": [
       "119"
      ]
     },
     "execution_count": 6,
     "metadata": {},
     "output_type": "execute_result"
    }
   ],
   "source": [
    "df[\"review_text\"].isnull().sum()"
   ]
  },
  {
   "cell_type": "code",
   "execution_count": 7,
   "id": "4d2cbe7e",
   "metadata": {},
   "outputs": [],
   "source": [
    "df.dropna(subset = 'review_text',axis =0,inplace = True)"
   ]
  },
  {
   "cell_type": "code",
   "execution_count": null,
   "id": "25b90e53",
   "metadata": {},
   "outputs": [],
   "source": []
  },
  {
   "cell_type": "code",
   "execution_count": 8,
   "id": "47f7e1cd",
   "metadata": {},
   "outputs": [
    {
     "data": {
      "text/html": [
       "<div>\n",
       "<style scoped>\n",
       "    .dataframe tbody tr th:only-of-type {\n",
       "        vertical-align: middle;\n",
       "    }\n",
       "\n",
       "    .dataframe tbody tr th {\n",
       "        vertical-align: top;\n",
       "    }\n",
       "\n",
       "    .dataframe thead th {\n",
       "        text-align: right;\n",
       "    }\n",
       "</style>\n",
       "<table border=\"1\" class=\"dataframe\">\n",
       "  <thead>\n",
       "    <tr style=\"text-align: right;\">\n",
       "      <th></th>\n",
       "      <th>beer_ABV</th>\n",
       "      <th>beer_beerId</th>\n",
       "      <th>review_appearance</th>\n",
       "      <th>review_palette</th>\n",
       "      <th>review_overall</th>\n",
       "      <th>review_taste</th>\n",
       "      <th>review_aroma</th>\n",
       "      <th>review_time</th>\n",
       "    </tr>\n",
       "    <tr>\n",
       "      <th>beer_brewerId</th>\n",
       "      <th></th>\n",
       "      <th></th>\n",
       "      <th></th>\n",
       "      <th></th>\n",
       "      <th></th>\n",
       "      <th></th>\n",
       "      <th></th>\n",
       "      <th></th>\n",
       "    </tr>\n",
       "  </thead>\n",
       "  <tbody>\n",
       "    <tr>\n",
       "      <th>6513</th>\n",
       "      <td>19.228824</td>\n",
       "      <td>34235.676471</td>\n",
       "      <td>3.558824</td>\n",
       "      <td>3.529412</td>\n",
       "      <td>3.411765</td>\n",
       "      <td>3.470588</td>\n",
       "      <td>3.514706</td>\n",
       "      <td>1.219645e+09</td>\n",
       "    </tr>\n",
       "    <tr>\n",
       "      <th>736</th>\n",
       "      <td>13.750000</td>\n",
       "      <td>4341.631579</td>\n",
       "      <td>3.947368</td>\n",
       "      <td>4.342105</td>\n",
       "      <td>3.815789</td>\n",
       "      <td>4.131579</td>\n",
       "      <td>4.236842</td>\n",
       "      <td>1.059959e+09</td>\n",
       "    </tr>\n",
       "    <tr>\n",
       "      <th>24215</th>\n",
       "      <td>12.466667</td>\n",
       "      <td>69983.000000</td>\n",
       "      <td>3.833333</td>\n",
       "      <td>4.000000</td>\n",
       "      <td>3.833333</td>\n",
       "      <td>3.833333</td>\n",
       "      <td>3.833333</td>\n",
       "      <td>1.313067e+09</td>\n",
       "    </tr>\n",
       "  </tbody>\n",
       "</table>\n",
       "</div>"
      ],
      "text/plain": [
       "                beer_ABV   beer_beerId  review_appearance  review_palette  \\\n",
       "beer_brewerId                                                               \n",
       "6513           19.228824  34235.676471           3.558824        3.529412   \n",
       "736            13.750000   4341.631579           3.947368        4.342105   \n",
       "24215          12.466667  69983.000000           3.833333        4.000000   \n",
       "\n",
       "               review_overall  review_taste  review_aroma   review_time  \n",
       "beer_brewerId                                                            \n",
       "6513                 3.411765      3.470588      3.514706  1.219645e+09  \n",
       "736                  3.815789      4.131579      4.236842  1.059959e+09  \n",
       "24215                3.833333      3.833333      3.833333  1.313067e+09  "
      ]
     },
     "execution_count": 8,
     "metadata": {},
     "output_type": "execute_result"
    }
   ],
   "source": [
    "df.groupby(by = 'beer_brewerId').mean().sort_values(by = 'beer_ABV',ascending = False)[:3]"
   ]
  },
  {
   "cell_type": "markdown",
   "id": "cd65613d",
   "metadata": {},
   "source": [
    "## As we can see in the above table the top three breweries to produce strongest beers are 6513, 736, 24215"
   ]
  },
  {
   "cell_type": "code",
   "execution_count": 9,
   "id": "5c6d8d63",
   "metadata": {},
   "outputs": [
    {
     "data": {
      "text/plain": [
       "dtype('int64')"
      ]
     },
     "execution_count": 9,
     "metadata": {},
     "output_type": "execute_result"
    }
   ],
   "source": [
    "df['review_time'].dtype"
   ]
  },
  {
   "cell_type": "code",
   "execution_count": 10,
   "id": "d8353d78",
   "metadata": {},
   "outputs": [],
   "source": [
    "from datetime import datetime"
   ]
  },
  {
   "cell_type": "code",
   "execution_count": 11,
   "id": "bdcb73f5",
   "metadata": {},
   "outputs": [],
   "source": [
    "df['review_time'] = df['review_time'].apply(lambda x: datetime.fromtimestamp(x))"
   ]
  },
  {
   "cell_type": "code",
   "execution_count": 12,
   "id": "11756c95",
   "metadata": {},
   "outputs": [
    {
     "data": {
      "text/plain": [
       "0        2009-02-17 02:27:03\n",
       "1        2009-03-01 19:14:57\n",
       "2        2009-03-01 19:40:04\n",
       "3        2009-02-16 00:42:25\n",
       "4        2010-12-31 00:23:26\n",
       "                 ...        \n",
       "528865   2008-03-11 10:48:41\n",
       "528866   2008-02-20 12:29:43\n",
       "528867   2008-01-26 09:44:57\n",
       "528868   2008-01-25 04:24:50\n",
       "528869   2008-01-15 00:16:07\n",
       "Name: review_time, Length: 528751, dtype: datetime64[ns]"
      ]
     },
     "execution_count": 12,
     "metadata": {},
     "output_type": "execute_result"
    }
   ],
   "source": [
    "df['review_time']"
   ]
  },
  {
   "cell_type": "code",
   "execution_count": 13,
   "id": "ce402989",
   "metadata": {},
   "outputs": [],
   "source": [
    "df['review_year'] = df['review_time'].apply(lambda x: x.year)"
   ]
  },
  {
   "cell_type": "code",
   "execution_count": 14,
   "id": "b79e65e8",
   "metadata": {},
   "outputs": [
    {
     "data": {
      "text/plain": [
       "0         2009\n",
       "1         2009\n",
       "2         2009\n",
       "3         2009\n",
       "4         2010\n",
       "          ... \n",
       "528865    2008\n",
       "528866    2008\n",
       "528867    2008\n",
       "528868    2008\n",
       "528869    2008\n",
       "Name: review_year, Length: 528751, dtype: int64"
      ]
     },
     "execution_count": 14,
     "metadata": {},
     "output_type": "execute_result"
    }
   ],
   "source": [
    "df['review_year']"
   ]
  },
  {
   "cell_type": "code",
   "execution_count": 15,
   "id": "5f28b6dc",
   "metadata": {},
   "outputs": [
    {
     "data": {
      "text/plain": [
       "beer_ABV                5.895000\n",
       "beer_beerId           674.303030\n",
       "beer_brewerId        1122.272727\n",
       "review_appearance       3.909091\n",
       "review_palette          3.939394\n",
       "review_overall          4.181818\n",
       "review_taste            3.984848\n",
       "review_aroma            4.196970\n",
       "Name: 2000, dtype: float64"
      ]
     },
     "execution_count": 15,
     "metadata": {},
     "output_type": "execute_result"
    }
   ],
   "source": [
    "df.groupby(by = 'review_year').mean().sort_values(by='review_overall').iloc[-1]"
   ]
  },
  {
   "cell_type": "markdown",
   "id": "54b60b69",
   "metadata": {},
   "source": [
    "## The above record displays the highest average rating in any year. It is 4.181818 in the year 2000"
   ]
  },
  {
   "cell_type": "code",
   "execution_count": 16,
   "id": "0cb6cd9b",
   "metadata": {},
   "outputs": [
    {
     "data": {
      "text/plain": [
       "Text(0.5, 1.0, 'Appearence box plot')"
      ]
     },
     "execution_count": 16,
     "metadata": {},
     "output_type": "execute_result"
    },
    {
     "data": {
      "image/png": "[encoded data removed]",
      "text/plain": [
       "<Figure size 432x288 with 1 Axes>"
      ]
     },
     "metadata": {
      "needs_background": "light"
     },
     "output_type": "display_data"
    }
   ],
   "source": [
    "sns.boxplot(data = df,x = 'review_appearance')\n",
    "plt.title('Appearence box plot')"
   ]
  },
  {
   "cell_type": "code",
   "execution_count": 17,
   "id": "c7a89f1b",
   "metadata": {},
   "outputs": [
    {
     "data": {
      "text/plain": [
       "Text(0.5, 1.0, 'Palette box plot')"
      ]
     },
     "execution_count": 17,
     "metadata": {},
     "output_type": "execute_result"
    },
    {
     "data": {
      "image/png": "[encoded data removed]",
      "text/plain": [
       "<Figure size 432x288 with 1 Axes>"
      ]
     },
     "metadata": {
      "needs_background": "light"
     },
     "output_type": "display_data"
    }
   ],
   "source": [
    "sns.boxplot(data = df,x = 'review_palette')\n",
    "plt.title('Palette box plot')"
   ]
  },
  {
   "cell_type": "code",
   "execution_count": 18,
   "id": "43b19bcc",
   "metadata": {},
   "outputs": [
    {
     "data": {
      "text/plain": [
       "Text(0.5, 1.0, 'Taste box plot')"
      ]
     },
     "execution_count": 18,
     "metadata": {},
     "output_type": "execute_result"
    },
    {
     "data": {
      "image/png": "[encoded data removed]",
      "text/plain": [
       "<Figure size 432x288 with 1 Axes>"
      ]
     },
     "metadata": {
      "needs_background": "light"
     },
     "output_type": "display_data"
    }
   ],
   "source": [
    "sns.boxplot(data = df,x = 'review_taste')\n",
    "plt.title('Taste box plot')"
   ]
  },
  {
   "cell_type": "code",
   "execution_count": 19,
   "id": "ad92b290",
   "metadata": {},
   "outputs": [
    {
     "data": {
      "text/plain": [
       "Text(0.5, 1.0, 'Aroma box plot')"
      ]
     },
     "execution_count": 19,
     "metadata": {},
     "output_type": "execute_result"
    },
    {
     "data": {
      "image/png": "[encoded data removed]",
      "text/plain": [
       "<Figure size 432x288 with 1 Axes>"
      ]
     },
     "metadata": {
      "needs_background": "light"
     },
     "output_type": "display_data"
    }
   ],
   "source": [
    "sns.boxplot(data = df,x = 'review_aroma')\n",
    "plt.title('Aroma box plot')"
   ]
  },
  {
   "cell_type": "code",
   "execution_count": 20,
   "id": "bae41a52",
   "metadata": {},
   "outputs": [
    {
     "data": {
      "text/plain": [
       "Text(0.5, 1.0, 'Overall rating box plot')"
      ]
     },
     "execution_count": 20,
     "metadata": {},
     "output_type": "execute_result"
    },
    {
     "data": {
      "image/png": "[encoded data removed]",
      "text/plain": [
       "<Figure size 432x288 with 1 Axes>"
      ]
     },
     "metadata": {
      "needs_background": "light"
     },
     "output_type": "display_data"
    }
   ],
   "source": [
    "sns.boxplot(data = df,x = 'review_overall')\n",
    "plt.title('Overall rating box plot')"
   ]
  },
  {
   "cell_type": "code",
   "execution_count": 21,
   "id": "bd6bab46",
   "metadata": {},
   "outputs": [
    {
     "data": {
      "image/png": "[encoded data removed]",
      "text/plain": [
       "<Figure size 432x288 with 2 Axes>"
      ]
     },
     "metadata": {
      "needs_background": "light"
     },
     "output_type": "display_data"
    }
   ],
   "source": [
    "from seaborn import heatmap\n",
    "_ = heatmap(data=df[['review_appearance','review_palette','review_taste','review_aroma','review_overall']].corr(), annot=True)"
   ]
  },
  {
   "cell_type": "code",
   "execution_count": null,
   "id": "68fe24c5",
   "metadata": {},
   "outputs": [],
   "source": []
  },
  {
   "cell_type": "code",
   "execution_count": null,
   "id": "78d7ceaf",
   "metadata": {},
   "outputs": [],
   "source": []
  },
  {
   "cell_type": "code",
   "execution_count": null,
   "id": "66d071db",
   "metadata": {},
   "outputs": [],
   "source": []
  },
  {
   "cell_type": "code",
   "execution_count": null,
   "id": "7eec9597",
   "metadata": {},
   "outputs": [],
   "source": []
  },
  {
   "cell_type": "code",
   "execution_count": null,
   "id": "4be1c151",
   "metadata": {},
   "outputs": [],
   "source": []
  },
  {
   "cell_type": "markdown",
   "id": "c086e741",
   "metadata": {},
   "source": [
    "## We can see the most highest correlation with overall rating is for aroma rating. So we see that aroma is the most important factor in rating as it has the highest similarity rating to overall rating. The importance of other factors can also be ranked on the basis of correlation."
   ]
  },
  {
   "cell_type": "code",
   "execution_count": 22,
   "id": "c8f07eaf",
   "metadata": {},
   "outputs": [
    {
     "data": {
      "text/html": [
       "<div>\n",
       "<style scoped>\n",
       "    .dataframe tbody tr th:only-of-type {\n",
       "        vertical-align: middle;\n",
       "    }\n",
       "\n",
       "    .dataframe tbody tr th {\n",
       "        vertical-align: top;\n",
       "    }\n",
       "\n",
       "    .dataframe thead th {\n",
       "        text-align: right;\n",
       "    }\n",
       "</style>\n",
       "<table border=\"1\" class=\"dataframe\">\n",
       "  <thead>\n",
       "    <tr style=\"text-align: right;\">\n",
       "      <th></th>\n",
       "      <th>beer_ABV</th>\n",
       "      <th>beer_beerId</th>\n",
       "      <th>beer_brewerId</th>\n",
       "      <th>beer_name</th>\n",
       "      <th>beer_style</th>\n",
       "      <th>review_appearance</th>\n",
       "      <th>review_palette</th>\n",
       "      <th>review_overall</th>\n",
       "      <th>review_taste</th>\n",
       "      <th>review_profileName</th>\n",
       "      <th>review_aroma</th>\n",
       "      <th>review_text</th>\n",
       "      <th>review_time</th>\n",
       "      <th>review_year</th>\n",
       "    </tr>\n",
       "  </thead>\n",
       "  <tbody>\n",
       "    <tr>\n",
       "      <th>83297</th>\n",
       "      <td>6.8</td>\n",
       "      <td>1904</td>\n",
       "      <td>140</td>\n",
       "      <td>Sierra Nevada Celebration Ale</td>\n",
       "      <td>American IPA</td>\n",
       "      <td>4.0</td>\n",
       "      <td>4.0</td>\n",
       "      <td>4.0</td>\n",
       "      <td>4.0</td>\n",
       "      <td>Jayli</td>\n",
       "      <td>4.5</td>\n",
       "      <td>Consumed 12/1 A: This beer pours a nice clear ...</td>\n",
       "      <td>2009-12-13 03:21:17</td>\n",
       "      <td>2009</td>\n",
       "    </tr>\n",
       "    <tr>\n",
       "      <th>83298</th>\n",
       "      <td>6.8</td>\n",
       "      <td>1904</td>\n",
       "      <td>140</td>\n",
       "      <td>Sierra Nevada Celebration Ale</td>\n",
       "      <td>American IPA</td>\n",
       "      <td>4.0</td>\n",
       "      <td>4.0</td>\n",
       "      <td>4.0</td>\n",
       "      <td>4.5</td>\n",
       "      <td>moosiz</td>\n",
       "      <td>4.0</td>\n",
       "      <td>Poured into a Frankenmuth brewery pint glass t...</td>\n",
       "      <td>2009-12-12 10:42:43</td>\n",
       "      <td>2009</td>\n",
       "    </tr>\n",
       "    <tr>\n",
       "      <th>83299</th>\n",
       "      <td>6.8</td>\n",
       "      <td>1904</td>\n",
       "      <td>140</td>\n",
       "      <td>Sierra Nevada Celebration Ale</td>\n",
       "      <td>American IPA</td>\n",
       "      <td>4.5</td>\n",
       "      <td>4.0</td>\n",
       "      <td>4.5</td>\n",
       "      <td>4.0</td>\n",
       "      <td>pmccallum86</td>\n",
       "      <td>4.5</td>\n",
       "      <td>Pours a hazy red color with a huge thick head ...</td>\n",
       "      <td>2009-12-12 08:01:03</td>\n",
       "      <td>2009</td>\n",
       "    </tr>\n",
       "    <tr>\n",
       "      <th>83300</th>\n",
       "      <td>6.8</td>\n",
       "      <td>1904</td>\n",
       "      <td>140</td>\n",
       "      <td>Sierra Nevada Celebration Ale</td>\n",
       "      <td>American IPA</td>\n",
       "      <td>5.0</td>\n",
       "      <td>4.0</td>\n",
       "      <td>4.0</td>\n",
       "      <td>4.5</td>\n",
       "      <td>Ottertude</td>\n",
       "      <td>4.0</td>\n",
       "      <td>Hooray for the Xmas season because that means ...</td>\n",
       "      <td>2009-12-12 05:57:47</td>\n",
       "      <td>2009</td>\n",
       "    </tr>\n",
       "    <tr>\n",
       "      <th>83301</th>\n",
       "      <td>6.8</td>\n",
       "      <td>1904</td>\n",
       "      <td>140</td>\n",
       "      <td>Sierra Nevada Celebration Ale</td>\n",
       "      <td>American IPA</td>\n",
       "      <td>4.0</td>\n",
       "      <td>4.5</td>\n",
       "      <td>4.5</td>\n",
       "      <td>4.5</td>\n",
       "      <td>thecarster1</td>\n",
       "      <td>4.5</td>\n",
       "      <td>a- bottle poured into a pint, half finger head...</td>\n",
       "      <td>2009-12-12 01:42:45</td>\n",
       "      <td>2009</td>\n",
       "    </tr>\n",
       "    <tr>\n",
       "      <th>...</th>\n",
       "      <td>...</td>\n",
       "      <td>...</td>\n",
       "      <td>...</td>\n",
       "      <td>...</td>\n",
       "      <td>...</td>\n",
       "      <td>...</td>\n",
       "      <td>...</td>\n",
       "      <td>...</td>\n",
       "      <td>...</td>\n",
       "      <td>...</td>\n",
       "      <td>...</td>\n",
       "      <td>...</td>\n",
       "      <td>...</td>\n",
       "      <td>...</td>\n",
       "    </tr>\n",
       "    <tr>\n",
       "      <th>86292</th>\n",
       "      <td>6.8</td>\n",
       "      <td>1904</td>\n",
       "      <td>140</td>\n",
       "      <td>Sierra Nevada Celebration Ale</td>\n",
       "      <td>American IPA</td>\n",
       "      <td>4.5</td>\n",
       "      <td>4.5</td>\n",
       "      <td>5.0</td>\n",
       "      <td>4.5</td>\n",
       "      <td>mjtiernan</td>\n",
       "      <td>4.5</td>\n",
       "      <td>12oz bottle poured into a NB globe A: Rich cop...</td>\n",
       "      <td>2011-12-13 10:50:52</td>\n",
       "      <td>2011</td>\n",
       "    </tr>\n",
       "    <tr>\n",
       "      <th>86293</th>\n",
       "      <td>6.8</td>\n",
       "      <td>1904</td>\n",
       "      <td>140</td>\n",
       "      <td>Sierra Nevada Celebration Ale</td>\n",
       "      <td>American IPA</td>\n",
       "      <td>4.5</td>\n",
       "      <td>4.0</td>\n",
       "      <td>4.5</td>\n",
       "      <td>5.0</td>\n",
       "      <td>jsdunlop</td>\n",
       "      <td>4.0</td>\n",
       "      <td>2011 Light amber, massive carbonation visible,...</td>\n",
       "      <td>2011-12-13 08:54:43</td>\n",
       "      <td>2011</td>\n",
       "    </tr>\n",
       "    <tr>\n",
       "      <th>86294</th>\n",
       "      <td>6.8</td>\n",
       "      <td>1904</td>\n",
       "      <td>140</td>\n",
       "      <td>Sierra Nevada Celebration Ale</td>\n",
       "      <td>American IPA</td>\n",
       "      <td>4.5</td>\n",
       "      <td>4.0</td>\n",
       "      <td>4.0</td>\n",
       "      <td>4.0</td>\n",
       "      <td>MaxSpang</td>\n",
       "      <td>4.5</td>\n",
       "      <td>Served in a tulip. APPEARANCE Celebration is a...</td>\n",
       "      <td>2011-12-13 06:30:36</td>\n",
       "      <td>2011</td>\n",
       "    </tr>\n",
       "    <tr>\n",
       "      <th>86295</th>\n",
       "      <td>6.8</td>\n",
       "      <td>1904</td>\n",
       "      <td>140</td>\n",
       "      <td>Sierra Nevada Celebration Ale</td>\n",
       "      <td>American IPA</td>\n",
       "      <td>4.5</td>\n",
       "      <td>4.0</td>\n",
       "      <td>4.0</td>\n",
       "      <td>4.5</td>\n",
       "      <td>BUNZILLA</td>\n",
       "      <td>4.5</td>\n",
       "      <td>12oz bottle poured into a large sniffter Appea...</td>\n",
       "      <td>2011-12-13 05:47:50</td>\n",
       "      <td>2011</td>\n",
       "    </tr>\n",
       "    <tr>\n",
       "      <th>86296</th>\n",
       "      <td>6.8</td>\n",
       "      <td>1904</td>\n",
       "      <td>140</td>\n",
       "      <td>Sierra Nevada Celebration Ale</td>\n",
       "      <td>American IPA</td>\n",
       "      <td>4.5</td>\n",
       "      <td>5.0</td>\n",
       "      <td>4.0</td>\n",
       "      <td>3.5</td>\n",
       "      <td>DCon</td>\n",
       "      <td>4.0</td>\n",
       "      <td>Bought a 12 FL. OZ. bottle of this from Lukas ...</td>\n",
       "      <td>2011-12-12 12:17:47</td>\n",
       "      <td>2011</td>\n",
       "    </tr>\n",
       "  </tbody>\n",
       "</table>\n",
       "<p>2999 rows × 14 columns</p>\n",
       "</div>"
      ],
      "text/plain": [
       "       beer_ABV  beer_beerId  beer_brewerId                      beer_name  \\\n",
       "83297       6.8         1904            140  Sierra Nevada Celebration Ale   \n",
       "83298       6.8         1904            140  Sierra Nevada Celebration Ale   \n",
       "83299       6.8         1904            140  Sierra Nevada Celebration Ale   \n",
       "83300       6.8         1904            140  Sierra Nevada Celebration Ale   \n",
       "83301       6.8         1904            140  Sierra Nevada Celebration Ale   \n",
       "...         ...          ...            ...                            ...   \n",
       "86292       6.8         1904            140  Sierra Nevada Celebration Ale   \n",
       "86293       6.8         1904            140  Sierra Nevada Celebration Ale   \n",
       "86294       6.8         1904            140  Sierra Nevada Celebration Ale   \n",
       "86295       6.8         1904            140  Sierra Nevada Celebration Ale   \n",
       "86296       6.8         1904            140  Sierra Nevada Celebration Ale   \n",
       "\n",
       "         beer_style  review_appearance  review_palette  review_overall  \\\n",
       "83297  American IPA                4.0             4.0             4.0   \n",
       "83298  American IPA                4.0             4.0             4.0   \n",
       "83299  American IPA                4.5             4.0             4.5   \n",
       "83300  American IPA                5.0             4.0             4.0   \n",
       "83301  American IPA                4.0             4.5             4.5   \n",
       "...             ...                ...             ...             ...   \n",
       "86292  American IPA                4.5             4.5             5.0   \n",
       "86293  American IPA                4.5             4.0             4.5   \n",
       "86294  American IPA                4.5             4.0             4.0   \n",
       "86295  American IPA                4.5             4.0             4.0   \n",
       "86296  American IPA                4.5             5.0             4.0   \n",
       "\n",
       "       review_taste review_profileName  review_aroma  \\\n",
       "83297           4.0              Jayli           4.5   \n",
       "83298           4.5             moosiz           4.0   \n",
       "83299           4.0        pmccallum86           4.5   \n",
       "83300           4.5          Ottertude           4.0   \n",
       "83301           4.5        thecarster1           4.5   \n",
       "...             ...                ...           ...   \n",
       "86292           4.5          mjtiernan           4.5   \n",
       "86293           5.0           jsdunlop           4.0   \n",
       "86294           4.0           MaxSpang           4.5   \n",
       "86295           4.5           BUNZILLA           4.5   \n",
       "86296           3.5               DCon           4.0   \n",
       "\n",
       "                                             review_text         review_time  \\\n",
       "83297  Consumed 12/1 A: This beer pours a nice clear ... 2009-12-13 03:21:17   \n",
       "83298  Poured into a Frankenmuth brewery pint glass t... 2009-12-12 10:42:43   \n",
       "83299  Pours a hazy red color with a huge thick head ... 2009-12-12 08:01:03   \n",
       "83300  Hooray for the Xmas season because that means ... 2009-12-12 05:57:47   \n",
       "83301  a- bottle poured into a pint, half finger head... 2009-12-12 01:42:45   \n",
       "...                                                  ...                 ...   \n",
       "86292  12oz bottle poured into a NB globe A: Rich cop... 2011-12-13 10:50:52   \n",
       "86293  2011 Light amber, massive carbonation visible,... 2011-12-13 08:54:43   \n",
       "86294  Served in a tulip. APPEARANCE Celebration is a... 2011-12-13 06:30:36   \n",
       "86295  12oz bottle poured into a large sniffter Appea... 2011-12-13 05:47:50   \n",
       "86296  Bought a 12 FL. OZ. bottle of this from Lukas ... 2011-12-12 12:17:47   \n",
       "\n",
       "       review_year  \n",
       "83297         2009  \n",
       "83298         2009  \n",
       "83299         2009  \n",
       "83300         2009  \n",
       "83301         2009  \n",
       "...            ...  \n",
       "86292         2011  \n",
       "86293         2011  \n",
       "86294         2011  \n",
       "86295         2011  \n",
       "86296         2011  \n",
       "\n",
       "[2999 rows x 14 columns]"
      ]
     },
     "execution_count": 22,
     "metadata": {},
     "output_type": "execute_result"
    }
   ],
   "source": [
    "df[df['beer_name']=='Sierra Nevada Celebration Ale']"
   ]
  },
  {
   "cell_type": "code",
   "execution_count": 23,
   "id": "fa970f35",
   "metadata": {},
   "outputs": [
    {
     "data": {
      "text/plain": [
       "1904     2999\n",
       "276      2586\n",
       "11757    2502\n",
       "2671     2492\n",
       "34       2480\n",
       "         ... \n",
       "73328       1\n",
       "73785       1\n",
       "70614       1\n",
       "58898       1\n",
       "47986       1\n",
       "Name: beer_beerId, Length: 20200, dtype: int64"
      ]
     },
     "execution_count": 23,
     "metadata": {},
     "output_type": "execute_result"
    }
   ],
   "source": [
    "df['beer_beerId'].value_counts()"
   ]
  },
  {
   "cell_type": "code",
   "execution_count": 24,
   "id": "e23b9f30",
   "metadata": {},
   "outputs": [],
   "source": [
    "ratings_df = df[['beer_beerId','beer_name','review_overall']].groupby(by = 'beer_beerId').mean()"
   ]
  },
  {
   "cell_type": "code",
   "execution_count": 25,
   "id": "db24f6e4",
   "metadata": {},
   "outputs": [
    {
     "data": {
      "text/html": [
       "<div>\n",
       "<style scoped>\n",
       "    .dataframe tbody tr th:only-of-type {\n",
       "        vertical-align: middle;\n",
       "    }\n",
       "\n",
       "    .dataframe tbody tr th {\n",
       "        vertical-align: top;\n",
       "    }\n",
       "\n",
       "    .dataframe thead th {\n",
       "        text-align: right;\n",
       "    }\n",
       "</style>\n",
       "<table border=\"1\" class=\"dataframe\">\n",
       "  <thead>\n",
       "    <tr style=\"text-align: right;\">\n",
       "      <th></th>\n",
       "      <th>review_overall</th>\n",
       "    </tr>\n",
       "    <tr>\n",
       "      <th>beer_beerId</th>\n",
       "      <th></th>\n",
       "    </tr>\n",
       "  </thead>\n",
       "  <tbody>\n",
       "    <tr>\n",
       "      <th>3</th>\n",
       "      <td>4.166667</td>\n",
       "    </tr>\n",
       "    <tr>\n",
       "      <th>4</th>\n",
       "      <td>3.700000</td>\n",
       "    </tr>\n",
       "    <tr>\n",
       "      <th>5</th>\n",
       "      <td>3.549528</td>\n",
       "    </tr>\n",
       "    <tr>\n",
       "      <th>6</th>\n",
       "      <td>3.706956</td>\n",
       "    </tr>\n",
       "    <tr>\n",
       "      <th>7</th>\n",
       "      <td>3.266313</td>\n",
       "    </tr>\n",
       "    <tr>\n",
       "      <th>...</th>\n",
       "      <td>...</td>\n",
       "    </tr>\n",
       "    <tr>\n",
       "      <th>77302</th>\n",
       "      <td>3.500000</td>\n",
       "    </tr>\n",
       "    <tr>\n",
       "      <th>77303</th>\n",
       "      <td>5.000000</td>\n",
       "    </tr>\n",
       "    <tr>\n",
       "      <th>77305</th>\n",
       "      <td>4.000000</td>\n",
       "    </tr>\n",
       "    <tr>\n",
       "      <th>77307</th>\n",
       "      <td>4.000000</td>\n",
       "    </tr>\n",
       "    <tr>\n",
       "      <th>77310</th>\n",
       "      <td>3.500000</td>\n",
       "    </tr>\n",
       "  </tbody>\n",
       "</table>\n",
       "<p>20200 rows × 1 columns</p>\n",
       "</div>"
      ],
      "text/plain": [
       "             review_overall\n",
       "beer_beerId                \n",
       "3                  4.166667\n",
       "4                  3.700000\n",
       "5                  3.549528\n",
       "6                  3.706956\n",
       "7                  3.266313\n",
       "...                     ...\n",
       "77302              3.500000\n",
       "77303              5.000000\n",
       "77305              4.000000\n",
       "77307              4.000000\n",
       "77310              3.500000\n",
       "\n",
       "[20200 rows x 1 columns]"
      ]
     },
     "execution_count": 25,
     "metadata": {},
     "output_type": "execute_result"
    }
   ],
   "source": [
    "ratings_df"
   ]
  },
  {
   "cell_type": "code",
   "execution_count": 26,
   "id": "174f3560",
   "metadata": {},
   "outputs": [],
   "source": [
    "count_df = df[['beer_beerId','review_overall']].groupby(by = 'beer_beerId').count()"
   ]
  },
  {
   "cell_type": "code",
   "execution_count": 27,
   "id": "f4140b82",
   "metadata": {},
   "outputs": [],
   "source": [
    "count_df.rename(columns = {'review_overall':'review_count'}, inplace = True)"
   ]
  },
  {
   "cell_type": "code",
   "execution_count": 28,
   "id": "bc814d71",
   "metadata": {},
   "outputs": [
    {
     "data": {
      "text/html": [
       "<div>\n",
       "<style scoped>\n",
       "    .dataframe tbody tr th:only-of-type {\n",
       "        vertical-align: middle;\n",
       "    }\n",
       "\n",
       "    .dataframe tbody tr th {\n",
       "        vertical-align: top;\n",
       "    }\n",
       "\n",
       "    .dataframe thead th {\n",
       "        text-align: right;\n",
       "    }\n",
       "</style>\n",
       "<table border=\"1\" class=\"dataframe\">\n",
       "  <thead>\n",
       "    <tr style=\"text-align: right;\">\n",
       "      <th></th>\n",
       "      <th>review_count</th>\n",
       "    </tr>\n",
       "    <tr>\n",
       "      <th>beer_beerId</th>\n",
       "      <th></th>\n",
       "    </tr>\n",
       "  </thead>\n",
       "  <tbody>\n",
       "    <tr>\n",
       "      <th>3</th>\n",
       "      <td>3</td>\n",
       "    </tr>\n",
       "    <tr>\n",
       "      <th>4</th>\n",
       "      <td>10</td>\n",
       "    </tr>\n",
       "    <tr>\n",
       "      <th>5</th>\n",
       "      <td>424</td>\n",
       "    </tr>\n",
       "    <tr>\n",
       "      <th>6</th>\n",
       "      <td>877</td>\n",
       "    </tr>\n",
       "    <tr>\n",
       "      <th>7</th>\n",
       "      <td>659</td>\n",
       "    </tr>\n",
       "    <tr>\n",
       "      <th>...</th>\n",
       "      <td>...</td>\n",
       "    </tr>\n",
       "    <tr>\n",
       "      <th>77302</th>\n",
       "      <td>1</td>\n",
       "    </tr>\n",
       "    <tr>\n",
       "      <th>77303</th>\n",
       "      <td>1</td>\n",
       "    </tr>\n",
       "    <tr>\n",
       "      <th>77305</th>\n",
       "      <td>1</td>\n",
       "    </tr>\n",
       "    <tr>\n",
       "      <th>77307</th>\n",
       "      <td>1</td>\n",
       "    </tr>\n",
       "    <tr>\n",
       "      <th>77310</th>\n",
       "      <td>1</td>\n",
       "    </tr>\n",
       "  </tbody>\n",
       "</table>\n",
       "<p>20200 rows × 1 columns</p>\n",
       "</div>"
      ],
      "text/plain": [
       "             review_count\n",
       "beer_beerId              \n",
       "3                       3\n",
       "4                      10\n",
       "5                     424\n",
       "6                     877\n",
       "7                     659\n",
       "...                   ...\n",
       "77302                   1\n",
       "77303                   1\n",
       "77305                   1\n",
       "77307                   1\n",
       "77310                   1\n",
       "\n",
       "[20200 rows x 1 columns]"
      ]
     },
     "execution_count": 28,
     "metadata": {},
     "output_type": "execute_result"
    }
   ],
   "source": [
    "count_df"
   ]
  },
  {
   "cell_type": "code",
   "execution_count": 29,
   "id": "1776befc",
   "metadata": {},
   "outputs": [],
   "source": [
    "grouped_df = ratings_df.join(count_df)"
   ]
  },
  {
   "cell_type": "code",
   "execution_count": 30,
   "id": "2920f6b8",
   "metadata": {},
   "outputs": [
    {
     "data": {
      "text/html": [
       "<div>\n",
       "<style scoped>\n",
       "    .dataframe tbody tr th:only-of-type {\n",
       "        vertical-align: middle;\n",
       "    }\n",
       "\n",
       "    .dataframe tbody tr th {\n",
       "        vertical-align: top;\n",
       "    }\n",
       "\n",
       "    .dataframe thead th {\n",
       "        text-align: right;\n",
       "    }\n",
       "</style>\n",
       "<table border=\"1\" class=\"dataframe\">\n",
       "  <thead>\n",
       "    <tr style=\"text-align: right;\">\n",
       "      <th></th>\n",
       "      <th>review_overall</th>\n",
       "      <th>review_count</th>\n",
       "    </tr>\n",
       "    <tr>\n",
       "      <th>beer_beerId</th>\n",
       "      <th></th>\n",
       "      <th></th>\n",
       "    </tr>\n",
       "  </thead>\n",
       "  <tbody>\n",
       "    <tr>\n",
       "      <th>3</th>\n",
       "      <td>4.166667</td>\n",
       "      <td>3</td>\n",
       "    </tr>\n",
       "    <tr>\n",
       "      <th>4</th>\n",
       "      <td>3.700000</td>\n",
       "      <td>10</td>\n",
       "    </tr>\n",
       "    <tr>\n",
       "      <th>5</th>\n",
       "      <td>3.549528</td>\n",
       "      <td>424</td>\n",
       "    </tr>\n",
       "    <tr>\n",
       "      <th>6</th>\n",
       "      <td>3.706956</td>\n",
       "      <td>877</td>\n",
       "    </tr>\n",
       "    <tr>\n",
       "      <th>7</th>\n",
       "      <td>3.266313</td>\n",
       "      <td>659</td>\n",
       "    </tr>\n",
       "    <tr>\n",
       "      <th>...</th>\n",
       "      <td>...</td>\n",
       "      <td>...</td>\n",
       "    </tr>\n",
       "    <tr>\n",
       "      <th>77302</th>\n",
       "      <td>3.500000</td>\n",
       "      <td>1</td>\n",
       "    </tr>\n",
       "    <tr>\n",
       "      <th>77303</th>\n",
       "      <td>5.000000</td>\n",
       "      <td>1</td>\n",
       "    </tr>\n",
       "    <tr>\n",
       "      <th>77305</th>\n",
       "      <td>4.000000</td>\n",
       "      <td>1</td>\n",
       "    </tr>\n",
       "    <tr>\n",
       "      <th>77307</th>\n",
       "      <td>4.000000</td>\n",
       "      <td>1</td>\n",
       "    </tr>\n",
       "    <tr>\n",
       "      <th>77310</th>\n",
       "      <td>3.500000</td>\n",
       "      <td>1</td>\n",
       "    </tr>\n",
       "  </tbody>\n",
       "</table>\n",
       "<p>20200 rows × 2 columns</p>\n",
       "</div>"
      ],
      "text/plain": [
       "             review_overall  review_count\n",
       "beer_beerId                              \n",
       "3                  4.166667             3\n",
       "4                  3.700000            10\n",
       "5                  3.549528           424\n",
       "6                  3.706956           877\n",
       "7                  3.266313           659\n",
       "...                     ...           ...\n",
       "77302              3.500000             1\n",
       "77303              5.000000             1\n",
       "77305              4.000000             1\n",
       "77307              4.000000             1\n",
       "77310              3.500000             1\n",
       "\n",
       "[20200 rows x 2 columns]"
      ]
     },
     "execution_count": 30,
     "metadata": {},
     "output_type": "execute_result"
    }
   ],
   "source": [
    "grouped_df"
   ]
  },
  {
   "cell_type": "code",
   "execution_count": 31,
   "id": "8ddbb465",
   "metadata": {},
   "outputs": [],
   "source": [
    "grouped_df['all_ratings'] = grouped_df['review_overall'] * grouped_df['review_count']"
   ]
  },
  {
   "cell_type": "code",
   "execution_count": 32,
   "id": "18f0f7f4",
   "metadata": {},
   "outputs": [],
   "source": [
    "arith_avg = grouped_df['all_ratings'].sum()/grouped_df['review_count'].sum()"
   ]
  },
  {
   "cell_type": "code",
   "execution_count": 33,
   "id": "0977ad10",
   "metadata": {},
   "outputs": [
    {
     "data": {
      "text/plain": [
       "3.833146414853116"
      ]
     },
     "execution_count": 33,
     "metadata": {},
     "output_type": "execute_result"
    }
   ],
   "source": [
    "arith_avg"
   ]
  },
  {
   "cell_type": "code",
   "execution_count": 34,
   "id": "b76f13bc",
   "metadata": {},
   "outputs": [],
   "source": [
    "grouped_df.sort_values(by = 'review_count',inplace = True)"
   ]
  },
  {
   "cell_type": "code",
   "execution_count": 35,
   "id": "4e68b906",
   "metadata": {},
   "outputs": [
    {
     "data": {
      "text/html": [
       "<div>\n",
       "<style scoped>\n",
       "    .dataframe tbody tr th:only-of-type {\n",
       "        vertical-align: middle;\n",
       "    }\n",
       "\n",
       "    .dataframe tbody tr th {\n",
       "        vertical-align: top;\n",
       "    }\n",
       "\n",
       "    .dataframe thead th {\n",
       "        text-align: right;\n",
       "    }\n",
       "</style>\n",
       "<table border=\"1\" class=\"dataframe\">\n",
       "  <thead>\n",
       "    <tr style=\"text-align: right;\">\n",
       "      <th></th>\n",
       "      <th>review_overall</th>\n",
       "      <th>review_count</th>\n",
       "      <th>all_ratings</th>\n",
       "    </tr>\n",
       "    <tr>\n",
       "      <th>beer_beerId</th>\n",
       "      <th></th>\n",
       "      <th></th>\n",
       "      <th></th>\n",
       "    </tr>\n",
       "  </thead>\n",
       "  <tbody>\n",
       "    <tr>\n",
       "      <th>40712</th>\n",
       "      <td>4.500000</td>\n",
       "      <td>1</td>\n",
       "      <td>4.5</td>\n",
       "    </tr>\n",
       "    <tr>\n",
       "      <th>43636</th>\n",
       "      <td>2.000000</td>\n",
       "      <td>1</td>\n",
       "      <td>2.0</td>\n",
       "    </tr>\n",
       "    <tr>\n",
       "      <th>43638</th>\n",
       "      <td>3.000000</td>\n",
       "      <td>1</td>\n",
       "      <td>3.0</td>\n",
       "    </tr>\n",
       "    <tr>\n",
       "      <th>43688</th>\n",
       "      <td>4.000000</td>\n",
       "      <td>1</td>\n",
       "      <td>4.0</td>\n",
       "    </tr>\n",
       "    <tr>\n",
       "      <th>43695</th>\n",
       "      <td>3.500000</td>\n",
       "      <td>1</td>\n",
       "      <td>3.5</td>\n",
       "    </tr>\n",
       "    <tr>\n",
       "      <th>...</th>\n",
       "      <td>...</td>\n",
       "      <td>...</td>\n",
       "      <td>...</td>\n",
       "    </tr>\n",
       "    <tr>\n",
       "      <th>34</th>\n",
       "      <td>4.297581</td>\n",
       "      <td>2480</td>\n",
       "      <td>10658.0</td>\n",
       "    </tr>\n",
       "    <tr>\n",
       "      <th>2671</th>\n",
       "      <td>3.966091</td>\n",
       "      <td>2492</td>\n",
       "      <td>9883.5</td>\n",
       "    </tr>\n",
       "    <tr>\n",
       "      <th>11757</th>\n",
       "      <td>4.354516</td>\n",
       "      <td>2502</td>\n",
       "      <td>10895.0</td>\n",
       "    </tr>\n",
       "    <tr>\n",
       "      <th>276</th>\n",
       "      <td>4.245940</td>\n",
       "      <td>2586</td>\n",
       "      <td>10980.0</td>\n",
       "    </tr>\n",
       "    <tr>\n",
       "      <th>1904</th>\n",
       "      <td>4.168556</td>\n",
       "      <td>2999</td>\n",
       "      <td>12501.5</td>\n",
       "    </tr>\n",
       "  </tbody>\n",
       "</table>\n",
       "<p>20200 rows × 3 columns</p>\n",
       "</div>"
      ],
      "text/plain": [
       "             review_overall  review_count  all_ratings\n",
       "beer_beerId                                           \n",
       "40712              4.500000             1          4.5\n",
       "43636              2.000000             1          2.0\n",
       "43638              3.000000             1          3.0\n",
       "43688              4.000000             1          4.0\n",
       "43695              3.500000             1          3.5\n",
       "...                     ...           ...          ...\n",
       "34                 4.297581          2480      10658.0\n",
       "2671               3.966091          2492       9883.5\n",
       "11757              4.354516          2502      10895.0\n",
       "276                4.245940          2586      10980.0\n",
       "1904               4.168556          2999      12501.5\n",
       "\n",
       "[20200 rows x 3 columns]"
      ]
     },
     "execution_count": 35,
     "metadata": {},
     "output_type": "execute_result"
    }
   ],
   "source": [
    "grouped_df"
   ]
  },
  {
   "cell_type": "code",
   "execution_count": 36,
   "id": "3df903ac",
   "metadata": {},
   "outputs": [],
   "source": [
    "confidence_num = grouped_df.review_count.quantile(.25)"
   ]
  },
  {
   "cell_type": "code",
   "execution_count": 37,
   "id": "78a52762",
   "metadata": {},
   "outputs": [],
   "source": [
    "# grouped_df[grouped_df['review_count'] != 1]"
   ]
  },
  {
   "cell_type": "code",
   "execution_count": 38,
   "id": "9af622b4",
   "metadata": {},
   "outputs": [],
   "source": [
    "grouped_df['bayesian_rating'] = (grouped_df['review_count']*grouped_df['review_overall'] + arith_avg*confidence_num) / (grouped_df['review_count']+confidence_num)"
   ]
  },
  {
   "cell_type": "code",
   "execution_count": 39,
   "id": "2058f8b2",
   "metadata": {},
   "outputs": [
    {
     "data": {
      "text/plain": [
       "beer_beerId\n",
       "40712    4.166573\n",
       "43636    2.916573\n",
       "43638    3.416573\n",
       "43688    3.916573\n",
       "43695    3.666573\n",
       "           ...   \n",
       "34       4.297393\n",
       "2671     3.966038\n",
       "11757    4.354308\n",
       "276      4.245780\n",
       "1904     4.168444\n",
       "Name: bayesian_rating, Length: 20200, dtype: float64"
      ]
     },
     "execution_count": 39,
     "metadata": {},
     "output_type": "execute_result"
    }
   ],
   "source": [
    "grouped_df['bayesian_rating']"
   ]
  },
  {
   "cell_type": "code",
   "execution_count": 40,
   "id": "a4f02a98",
   "metadata": {},
   "outputs": [
    {
     "data": {
      "text/html": [
       "<div>\n",
       "<style scoped>\n",
       "    .dataframe tbody tr th:only-of-type {\n",
       "        vertical-align: middle;\n",
       "    }\n",
       "\n",
       "    .dataframe tbody tr th {\n",
       "        vertical-align: top;\n",
       "    }\n",
       "\n",
       "    .dataframe thead th {\n",
       "        text-align: right;\n",
       "    }\n",
       "</style>\n",
       "<table border=\"1\" class=\"dataframe\">\n",
       "  <thead>\n",
       "    <tr style=\"text-align: right;\">\n",
       "      <th></th>\n",
       "      <th>review_overall</th>\n",
       "      <th>review_count</th>\n",
       "      <th>all_ratings</th>\n",
       "      <th>bayesian_rating</th>\n",
       "    </tr>\n",
       "    <tr>\n",
       "      <th>beer_beerId</th>\n",
       "      <th></th>\n",
       "      <th></th>\n",
       "      <th></th>\n",
       "      <th></th>\n",
       "    </tr>\n",
       "  </thead>\n",
       "  <tbody>\n",
       "    <tr>\n",
       "      <th>70054</th>\n",
       "      <td>4.937500</td>\n",
       "      <td>8</td>\n",
       "      <td>39.5</td>\n",
       "      <td>4.814794</td>\n",
       "    </tr>\n",
       "    <tr>\n",
       "      <th>67111</th>\n",
       "      <td>4.928571</td>\n",
       "      <td>7</td>\n",
       "      <td>34.5</td>\n",
       "      <td>4.791643</td>\n",
       "    </tr>\n",
       "    <tr>\n",
       "      <th>37070</th>\n",
       "      <td>4.916667</td>\n",
       "      <td>6</td>\n",
       "      <td>29.5</td>\n",
       "      <td>4.761878</td>\n",
       "    </tr>\n",
       "    <tr>\n",
       "      <th>8626</th>\n",
       "      <td>4.768293</td>\n",
       "      <td>41</td>\n",
       "      <td>195.5</td>\n",
       "      <td>4.746027</td>\n",
       "    </tr>\n",
       "    <tr>\n",
       "      <th>59949</th>\n",
       "      <td>4.857143</td>\n",
       "      <td>7</td>\n",
       "      <td>34.0</td>\n",
       "      <td>4.729143</td>\n",
       "    </tr>\n",
       "    <tr>\n",
       "      <th>...</th>\n",
       "      <td>...</td>\n",
       "      <td>...</td>\n",
       "      <td>...</td>\n",
       "      <td>...</td>\n",
       "    </tr>\n",
       "    <tr>\n",
       "      <th>51067</th>\n",
       "      <td>1.612245</td>\n",
       "      <td>49</td>\n",
       "      <td>79.0</td>\n",
       "      <td>1.656663</td>\n",
       "    </tr>\n",
       "    <tr>\n",
       "      <th>4683</th>\n",
       "      <td>1.472222</td>\n",
       "      <td>18</td>\n",
       "      <td>26.5</td>\n",
       "      <td>1.596481</td>\n",
       "    </tr>\n",
       "    <tr>\n",
       "      <th>55523</th>\n",
       "      <td>1.214286</td>\n",
       "      <td>7</td>\n",
       "      <td>8.5</td>\n",
       "      <td>1.541643</td>\n",
       "    </tr>\n",
       "    <tr>\n",
       "      <th>43360</th>\n",
       "      <td>1.233333</td>\n",
       "      <td>15</td>\n",
       "      <td>18.5</td>\n",
       "      <td>1.395822</td>\n",
       "    </tr>\n",
       "    <tr>\n",
       "      <th>32690</th>\n",
       "      <td>1.153846</td>\n",
       "      <td>13</td>\n",
       "      <td>15.0</td>\n",
       "      <td>1.345225</td>\n",
       "    </tr>\n",
       "  </tbody>\n",
       "</table>\n",
       "<p>20200 rows × 4 columns</p>\n",
       "</div>"
      ],
      "text/plain": [
       "             review_overall  review_count  all_ratings  bayesian_rating\n",
       "beer_beerId                                                            \n",
       "70054              4.937500             8         39.5         4.814794\n",
       "67111              4.928571             7         34.5         4.791643\n",
       "37070              4.916667             6         29.5         4.761878\n",
       "8626               4.768293            41        195.5         4.746027\n",
       "59949              4.857143             7         34.0         4.729143\n",
       "...                     ...           ...          ...              ...\n",
       "51067              1.612245            49         79.0         1.656663\n",
       "4683               1.472222            18         26.5         1.596481\n",
       "55523              1.214286             7          8.5         1.541643\n",
       "43360              1.233333            15         18.5         1.395822\n",
       "32690              1.153846            13         15.0         1.345225\n",
       "\n",
       "[20200 rows x 4 columns]"
      ]
     },
     "execution_count": 40,
     "metadata": {},
     "output_type": "execute_result"
    }
   ],
   "source": [
    "grouped_df.sort_values(by= 'bayesian_rating',ascending = False)"
   ]
  },
  {
   "cell_type": "code",
   "execution_count": 41,
   "id": "a4ba88a3",
   "metadata": {},
   "outputs": [
    {
     "data": {
      "text/plain": [
       "array(['Pilot Series Passionfruit And Dragonfruit Berliner Weiss',\n",
       "       'Alesmith Speedway Stout -\\xa0Vanilla And Coconut\\xa0',\n",
       "       'Iceberg Strong Pale Ale'], dtype=object)"
      ]
     },
     "execution_count": 41,
     "metadata": {},
     "output_type": "execute_result"
    }
   ],
   "source": [
    "df[df['beer_beerId'].isin([70054,67111,37070])]['beer_name'].unique()"
   ]
  },
  {
   "cell_type": "markdown",
   "id": "21999c4e",
   "metadata": {},
   "source": [
    "## Since the number of ratings for each beer vary I am using bayesian average for ranking of beer instead of the review_overall\n",
    "\n",
    "## According to bayesian average the top 3 recommended beers are \n",
    "1. Pilot Series Passionfruit And Dragonfruit Berliner Weiss\n",
    "2. Alesmith Speedway Stout - Vanilla And Coconut\n",
    "3. Iceberg Strong Pale Ale"
   ]
  },
  {
   "cell_type": "code",
   "execution_count": 42,
   "id": "43b731ad",
   "metadata": {},
   "outputs": [
    {
     "data": {
      "text/plain": [
       "'A lot of foam. But a lot. In the smell some banana, and then lactic and tart. Not a good start. Quite dark orange in color, with a lively carbonation (now visible, under the foam). Again tending to lactic sourness. Same for the taste. With some yeast and banana.'"
      ]
     },
     "execution_count": 42,
     "metadata": {},
     "output_type": "execute_result"
    }
   ],
   "source": [
    "df['review_text'][0]"
   ]
  },
  {
   "cell_type": "code",
   "execution_count": 43,
   "id": "a72a2901",
   "metadata": {},
   "outputs": [
    {
     "data": {
      "text/plain": [
       "beer_ABV                                                            5.0\n",
       "beer_beerId                                                       47986\n",
       "beer_brewerId                                                     10325\n",
       "beer_name                                                  Sausa Weizen\n",
       "beer_style                                                   Hefeweizen\n",
       "review_appearance                                                   2.5\n",
       "review_palette                                                      2.0\n",
       "review_overall                                                      1.5\n",
       "review_taste                                                        1.5\n",
       "review_profileName                                              stcules\n",
       "review_aroma                                                        1.5\n",
       "review_text           A lot of foam. But a lot. In the smell some ba...\n",
       "review_time                                         2009-02-17 02:27:03\n",
       "review_year                                                        2009\n",
       "Name: 0, dtype: object"
      ]
     },
     "execution_count": 43,
     "metadata": {},
     "output_type": "execute_result"
    }
   ],
   "source": [
    "df.iloc[0]"
   ]
  },
  {
   "cell_type": "code",
   "execution_count": 44,
   "id": "9aa6cb3a",
   "metadata": {},
   "outputs": [],
   "source": [
    "from nltk import download\n",
    "from nltk.sentiment.vader import SentimentIntensityAnalyzer"
   ]
  },
  {
   "cell_type": "code",
   "execution_count": 45,
   "id": "48d4a2c1",
   "metadata": {},
   "outputs": [
    {
     "data": {
      "text/plain": [
       "True"
      ]
     },
     "execution_count": 45,
     "metadata": {},
     "output_type": "execute_result"
    }
   ],
   "source": [
    "download(\"vader_lexicon\", quiet=True)"
   ]
  },
  {
   "cell_type": "code",
   "execution_count": 46,
   "id": "e65901d4",
   "metadata": {},
   "outputs": [],
   "source": [
    "analyser = SentimentIntensityAnalyzer()"
   ]
  },
  {
   "cell_type": "code",
   "execution_count": null,
   "id": "74599b75",
   "metadata": {},
   "outputs": [],
   "source": []
  },
  {
   "cell_type": "code",
   "execution_count": 47,
   "id": "7dd5bfbd",
   "metadata": {},
   "outputs": [],
   "source": [
    "df[\"review_sentiment\"] = df[\"review_text\"].apply(lambda x: analyser.polarity_scores(text=x)[\"compound\"])"
   ]
  },
  {
   "cell_type": "code",
   "execution_count": 48,
   "id": "eaf01784",
   "metadata": {},
   "outputs": [
    {
     "data": {
      "text/html": [
       "<div>\n",
       "<style scoped>\n",
       "    .dataframe tbody tr th:only-of-type {\n",
       "        vertical-align: middle;\n",
       "    }\n",
       "\n",
       "    .dataframe tbody tr th {\n",
       "        vertical-align: top;\n",
       "    }\n",
       "\n",
       "    .dataframe thead th {\n",
       "        text-align: right;\n",
       "    }\n",
       "</style>\n",
       "<table border=\"1\" class=\"dataframe\">\n",
       "  <thead>\n",
       "    <tr style=\"text-align: right;\">\n",
       "      <th></th>\n",
       "      <th>mean</th>\n",
       "      <th>count</th>\n",
       "    </tr>\n",
       "    <tr>\n",
       "      <th>beer_style</th>\n",
       "      <th></th>\n",
       "      <th></th>\n",
       "    </tr>\n",
       "  </thead>\n",
       "  <tbody>\n",
       "    <tr>\n",
       "      <th>Quadrupel (Quad)</th>\n",
       "      <td>0.857887</td>\n",
       "      <td>4933</td>\n",
       "    </tr>\n",
       "    <tr>\n",
       "      <th>Dortmunder / Export Lager</th>\n",
       "      <td>0.852428</td>\n",
       "      <td>1809</td>\n",
       "    </tr>\n",
       "    <tr>\n",
       "      <th>Braggot</th>\n",
       "      <td>0.850789</td>\n",
       "      <td>199</td>\n",
       "    </tr>\n",
       "    <tr>\n",
       "      <th>Flanders Red Ale</th>\n",
       "      <td>0.849444</td>\n",
       "      <td>2856</td>\n",
       "    </tr>\n",
       "    <tr>\n",
       "      <th>American Double / Imperial Stout</th>\n",
       "      <td>0.847810</td>\n",
       "      <td>23352</td>\n",
       "    </tr>\n",
       "    <tr>\n",
       "      <th>...</th>\n",
       "      <td>...</td>\n",
       "      <td>...</td>\n",
       "    </tr>\n",
       "    <tr>\n",
       "      <th>Happoshu</th>\n",
       "      <td>0.533456</td>\n",
       "      <td>55</td>\n",
       "    </tr>\n",
       "    <tr>\n",
       "      <th>American Malt Liquor</th>\n",
       "      <td>0.524399</td>\n",
       "      <td>1410</td>\n",
       "    </tr>\n",
       "    <tr>\n",
       "      <th>Japanese Rice Lager</th>\n",
       "      <td>0.519356</td>\n",
       "      <td>496</td>\n",
       "    </tr>\n",
       "    <tr>\n",
       "      <th>Light Lager</th>\n",
       "      <td>0.468890</td>\n",
       "      <td>4471</td>\n",
       "    </tr>\n",
       "    <tr>\n",
       "      <th>Low Alcohol Beer</th>\n",
       "      <td>0.441164</td>\n",
       "      <td>219</td>\n",
       "    </tr>\n",
       "  </tbody>\n",
       "</table>\n",
       "<p>104 rows × 2 columns</p>\n",
       "</div>"
      ],
      "text/plain": [
       "                                      mean  count\n",
       "beer_style                                       \n",
       "Quadrupel (Quad)                  0.857887   4933\n",
       "Dortmunder / Export Lager         0.852428   1809\n",
       "Braggot                           0.850789    199\n",
       "Flanders Red Ale                  0.849444   2856\n",
       "American Double / Imperial Stout  0.847810  23352\n",
       "...                                    ...    ...\n",
       "Happoshu                          0.533456     55\n",
       "American Malt Liquor              0.524399   1410\n",
       "Japanese Rice Lager               0.519356    496\n",
       "Light Lager                       0.468890   4471\n",
       "Low Alcohol Beer                  0.441164    219\n",
       "\n",
       "[104 rows x 2 columns]"
      ]
     },
     "execution_count": 48,
     "metadata": {},
     "output_type": "execute_result"
    }
   ],
   "source": [
    "df.groupby(by=\"beer_style\")[\"review_sentiment\"].agg(func=[\"mean\", \"count\"]).sort_values(by=\"mean\", ascending=False)"
   ]
  },
  {
   "cell_type": "markdown",
   "id": "347c3227",
   "metadata": {},
   "source": [
    "## As we can see from the above table that Quadupel (Quad) is the most favourite type of beer."
   ]
  },
  {
   "cell_type": "code",
   "execution_count": 49,
   "id": "8d44a7c4",
   "metadata": {},
   "outputs": [
    {
     "data": {
      "text/html": [
       "<div>\n",
       "<style scoped>\n",
       "    .dataframe tbody tr th:only-of-type {\n",
       "        vertical-align: middle;\n",
       "    }\n",
       "\n",
       "    .dataframe tbody tr th {\n",
       "        vertical-align: top;\n",
       "    }\n",
       "\n",
       "    .dataframe thead th {\n",
       "        text-align: right;\n",
       "    }\n",
       "</style>\n",
       "<table border=\"1\" class=\"dataframe\">\n",
       "  <thead>\n",
       "    <tr style=\"text-align: right;\">\n",
       "      <th></th>\n",
       "      <th>review_sentiment</th>\n",
       "      <th>review_overall</th>\n",
       "    </tr>\n",
       "  </thead>\n",
       "  <tbody>\n",
       "    <tr>\n",
       "      <th>review_sentiment</th>\n",
       "      <td>1.000000</td>\n",
       "      <td>0.258745</td>\n",
       "    </tr>\n",
       "    <tr>\n",
       "      <th>review_overall</th>\n",
       "      <td>0.258745</td>\n",
       "      <td>1.000000</td>\n",
       "    </tr>\n",
       "  </tbody>\n",
       "</table>\n",
       "</div>"
      ],
      "text/plain": [
       "                  review_sentiment  review_overall\n",
       "review_sentiment          1.000000        0.258745\n",
       "review_overall            0.258745        1.000000"
      ]
     },
     "execution_count": 49,
     "metadata": {},
     "output_type": "execute_result"
    }
   ],
   "source": [
    "df_quad = df[df[\"beer_style\"] == \"Quadrupel (Quad)\"]\n",
    "df_quad[[\"review_sentiment\", \"review_overall\"]].corr()"
   ]
  },
  {
   "cell_type": "markdown",
   "id": "8c347de9",
   "metadata": {},
   "source": [
    "## We can see there is a low correlation between the review sentiment and the overall review. It was expected as the reviews are gievn by humans but the sentiment analyser is not analysing at human level."
   ]
  },
  {
   "cell_type": "code",
   "execution_count": null,
   "id": "4a791473",
   "metadata": {},
   "outputs": [],
   "source": []
  }
 ],
 "metadata": {
  "kernelspec": {
   "display_name": "Python 3 (ipykernel)",
   "language": "python",
   "name": "python3"
  },
  "language_info": {
   "codemirror_mode": {
    "name": "ipython",
    "version": 3
   },
   "file_extension": ".py",
   "mimetype": "text/x-python",
   "name": "python",
   "nbconvert_exporter": "python",
   "pygments_lexer": "ipython3",
   "version": "3.9.12"
  }
 },
 "nbformat": 4,
 "nbformat_minor": 5
}
